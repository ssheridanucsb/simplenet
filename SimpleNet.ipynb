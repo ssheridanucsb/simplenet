{
 "cells": [
  {
   "cell_type": "code",
   "execution_count": 51,
   "metadata": {},
   "outputs": [],
   "source": [
    "import numpy as np\n",
    "import scipy as sp"
   ]
  },
  {
   "cell_type": "markdown",
   "metadata": {},
   "source": [
    "# Creating a Synthetic Data Set\n"
   ]
  },
  {
   "cell_type": "markdown",
   "metadata": {},
   "source": [
    "Our function is defined as $f(x) = c_0\\sigma(a_0x+b_0)+d_0$ where $a_0 = 1, b_0 = -1, c_0 = 2, d_0 = 1$\n",
    "\n",
    "Our activation function is defined as $\\sigma(z) = \\{z if z\\geqslant 0 , 0 if z <0 \\}$"
   ]
  },
  {
   "cell_type": "code",
   "execution_count": 52,
   "metadata": {},
   "outputs": [],
   "source": [
    "def func(x, a, b, c, d):\n",
    "    z = a*x + b\n",
    "    if z >= 0:\n",
    "        return c * z + d\n",
    "    else:\n",
    "        return d"
   ]
  },
  {
   "cell_type": "code",
   "execution_count": 53,
   "metadata": {},
   "outputs": [],
   "source": [
    "inputs = np.random.uniform(-2,2,50)"
   ]
  },
  {
   "cell_type": "code",
   "execution_count": 54,
   "metadata": {},
   "outputs": [],
   "source": [
    "errors = np.random.normal(0, .1, 50)"
   ]
  },
  {
   "cell_type": "code",
   "execution_count": 55,
   "metadata": {},
   "outputs": [],
   "source": [
    "synth_output = np.array([func(x, 1, -1, 2, 1) for x in inputs]) + errors"
   ]
  },
  {
   "cell_type": "code",
   "execution_count": 85,
   "metadata": {},
   "outputs": [],
   "source": [
    "def update_weights(x, y, a, b, c, d, alpha):\n",
    "    \"\"\"Takes input and output data, the weights for the hypothesis function (a,b,c,d) and the tuning parameter alpha. \n",
    "    Returns updated parameters\"\"\"\n",
    "    m = len(x) #length of input arrays\n",
    "    #initialize lists\n",
    "    grad_a = []\n",
    "    grad_b = []\n",
    "    grad_c = []\n",
    "    grad_d = []\n",
    "    #iterate through arrays and calculate gradient\n",
    "    for i in range(m):\n",
    "        #activation function changes the derivative \n",
    "        if a* x[i]+b >= 0:\n",
    "            grad_a.append(-2*c*x[i]*(y[i] - (c*(a*x[i]+b)+d)))\n",
    "            grad_b.append(-2*c*(y[i] - (c*(a*x[i]+b)+d)))\n",
    "            grad_c.append(-2*(a*x[i]+b)*(y[i] - (c*(a*x[i]+b)+d)))\n",
    "            grad_d.append(-2*(y[i] - (c*(a*x[i]+b)+d)))\n",
    "        else:\n",
    "            grad_a.append(0.0)\n",
    "            grad_b.append(0.0)\n",
    "            grad_c.append(0.0)\n",
    "            grad_d.append(-(y[i] - d))\n",
    "    \n",
    "    a_new = a - alpha * sum(grad_a)/m\n",
    "    b_new = b - alpha * sum(grad_b)/m\n",
    "    c_new = c - alpha * sum(grad_c)/m\n",
    "    d_new = d - alpha * sum(grad_d)/m\n",
    "    \n",
    "    #return updated values\n",
    "    return a_new, b_new, c_new, d_new"
   ]
  },
  {
   "cell_type": "code",
   "execution_count": 95,
   "metadata": {},
   "outputs": [
    {
     "name": "stdout",
     "output_type": "stream",
     "text": [
      "1.2840165563776682 -1.2372238791683927 1.4776784509767842 0.9952744396651196\n"
     ]
    }
   ],
   "source": [
    "i = 0;\n",
    "a, b, c, d = update_weights(inputs, synth_output, 1.0, 1.0, 1.0, 1.0, 0.01)\n",
    "while i!=10000:\n",
    "    a, b, c, d = update_weights(inputs, synth_output, a, b, c, d, 0.01)\n",
    "    i = i + 1\n",
    "print(a, b, c, d)"
   ]
  },
  {
   "cell_type": "code",
   "execution_count": null,
   "metadata": {},
   "outputs": [],
   "source": []
  },
  {
   "cell_type": "code",
   "execution_count": null,
   "metadata": {},
   "outputs": [],
   "source": []
  }
 ],
 "metadata": {
  "kernelspec": {
   "display_name": "Python 3",
   "language": "python",
   "name": "python3"
  },
  "language_info": {
   "codemirror_mode": {
    "name": "ipython",
    "version": 3
   },
   "file_extension": ".py",
   "mimetype": "text/x-python",
   "name": "python",
   "nbconvert_exporter": "python",
   "pygments_lexer": "ipython3",
   "version": "3.7.3"
  }
 },
 "nbformat": 4,
 "nbformat_minor": 2
}
