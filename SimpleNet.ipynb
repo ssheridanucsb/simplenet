{
 "cells": [
  {
   "cell_type": "code",
   "execution_count": 51,
   "metadata": {},
   "outputs": [],
   "source": [
    "import numpy as np\n",
    "import scipy as sp"
   ]
  },
  {
   "cell_type": "markdown",
   "metadata": {},
   "source": [
    "# Creating a Synthetic Data Set\n"
   ]
  },
  {
   "cell_type": "markdown",
   "metadata": {},
   "source": [
    "Our function is defined as $f(x) = c_0\\sigma(a_0x+b_0)+d_0$ where $a_0 = 1, b_0 = -1, c_0 = 2, d_0 = 1$\n",
    "\n",
    "Our activation function is defined as $\\sigma(z) = \\{z if z\\geqslant 0 , 0 if z <0 \\}$"
   ]
  },
  {
   "cell_type": "code",
   "execution_count": 52,
   "metadata": {},
   "outputs": [],
   "source": [
    "def act_func(x, a, b, c, d):\n",
    "    z = a*x + b\n",
    "    if z >= 0:\n",
    "        return c * z + d\n",
    "    else:\n",
    "        return d"
   ]
  },
  {
   "cell_type": "code",
   "execution_count": 53,
   "metadata": {},
   "outputs": [],
   "source": [
    "inputs = np.random.uniform(-2,2,50)"
   ]
  },
  {
   "cell_type": "code",
   "execution_count": 54,
   "metadata": {},
   "outputs": [],
   "source": [
    "errors = np.random.normal(0, .1, 50)"
   ]
  },
  {
   "cell_type": "code",
   "execution_count": 55,
   "metadata": {},
   "outputs": [],
   "source": [
    "synth_output = np.array([act_func(x, 1, -1, 2, 1) for x in inputs]) + errors"
   ]
  },
  {
   "cell_type": "code",
   "execution_count": 85,
   "metadata": {},
   "outputs": [],
   "source": [
    "def update_weights(x, y, a, b, c, d, alpha):\n",
    "    \"\"\"Takes input and output data, the weights for the hypothesis function (a,b,c,d) and the tuning parameter alpha. \n",
    "    Returns updated parameters\"\"\"\n",
    "    m = len(x) #length of input arrays\n",
    "    #initialize lists\n",
    "    grad_a = []\n",
    "    grad_b = []\n",
    "    grad_c = []\n",
    "    grad_d = []\n",
    "    #iterate through arrays and calculate gradient\n",
    "    for i in range(m):\n",
    "        #activation function changes the derivative \n",
    "        if a* x[i]+b >= 0:\n",
    "            grad_a.append(-2*c*x[i]*(y[i] - (c*(a*x[i]+b)+d)))\n",
    "            grad_b.append(-2*c*(y[i] - (c*(a*x[i]+b)+d)))\n",
    "            grad_c.append(-2*(a*x[i]+b)*(y[i] - (c*(a*x[i]+b)+d)))\n",
    "            grad_d.append(-2*(y[i] - (c*(a*x[i]+b)+d)))\n",
    "        else:\n",
    "            grad_a.append(0.0)\n",
    "            grad_b.append(0.0)\n",
    "            grad_c.append(0.0)\n",
    "            grad_d.append(-(y[i] - d))\n",
    "    \n",
    "    a_new = a - alpha * sum(grad_a)/m\n",
    "    b_new = b - alpha * sum(grad_b)/m\n",
    "    c_new = c - alpha * sum(grad_c)/m\n",
    "    d_new = d - alpha * sum(grad_d)/m\n",
    "    \n",
    "    #return updated values\n",
    "    return a_new, b_new, c_new, d_new"
   ]
  },
  {
   "cell_type": "code",
   "execution_count": 101,
   "metadata": {},
   "outputs": [
    {
     "name": "stdout",
     "output_type": "stream",
     "text": [
      "1.170914087720099 -1.1295271933610702 1.6237044137608052 0.9954577211714819\n"
     ]
    }
   ],
   "source": [
    "i = 0;\n",
    "a, b, c, d = update_weights(inputs, synth_output, .1, .1, .1, .1, 0.01)\n",
    "while i!=10000:\n",
    "    a, b, c, d = update_weights(inputs, synth_output, a, b, c, d, 0.01)\n",
    "    i = i + 1\n",
    "print(a, b, c, d)"
   ]
  },
  {
   "cell_type": "code",
   "execution_count": 136,
   "metadata": {},
   "outputs": [],
   "source": [
    "def approx(a, b):\n",
    "    if abs(a - b) <= 0.0000000001:\n",
    "        return True\n",
    "    return False"
   ]
  },
  {
   "cell_type": "code",
   "execution_count": 137,
   "metadata": {},
   "outputs": [],
   "source": [
    "def train(X, Y, alpha, a_0, b_0, c_0, d_0):\n",
    "    a, b, c, d = update_weights(X, Y, a_0, b_0, c_0, d_0, alpha)\n",
    "    a1, b1, c1, d1 = update_weights(X,Y,a,b,c,d,alpha)\n",
    "    \n",
    "    while not approx(a, a1) and not approx(b, b1) and not approx(c, c1) and not approx(d, d1):\n",
    "        a, b, c, d = update_weights(X, Y, a1, b1, c1, d1, alpha)\n",
    "        a1, b1, c1, d1 = update_weights(X,Y,a,b,c,d,alpha)\n",
    "    return a1, b1, c1 ,d1"
   ]
  },
  {
   "cell_type": "code",
   "execution_count": 138,
   "metadata": {},
   "outputs": [
    {
     "data": {
      "text/plain": [
       "(1.1712741751531477,\n",
       " -1.1303990963887516,\n",
       " 1.624570667081366,\n",
       " 0.9955283314057505)"
      ]
     },
     "execution_count": 138,
     "metadata": {},
     "output_type": "execute_result"
    }
   ],
   "source": [
    "train(inputs, synth_output, 0.01, 0.1, 0.1, 0.1, 0.1)"
   ]
  }
 ],
 "metadata": {
  "kernelspec": {
   "display_name": "Python 3",
   "language": "python",
   "name": "python3"
  },
  "language_info": {
   "codemirror_mode": {
    "name": "ipython",
    "version": 3
   },
   "file_extension": ".py",
   "mimetype": "text/x-python",
   "name": "python",
   "nbconvert_exporter": "python",
   "pygments_lexer": "ipython3",
   "version": "3.7.3"
  }
 },
 "nbformat": 4,
 "nbformat_minor": 2
}
