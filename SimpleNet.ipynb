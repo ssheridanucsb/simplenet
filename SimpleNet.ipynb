{
 "cells": [
  {
   "cell_type": "code",
   "execution_count": 139,
   "metadata": {},
   "outputs": [],
   "source": [
    "import numpy as np"
   ]
  },
  {
   "cell_type": "markdown",
   "metadata": {},
   "source": [
    "# Creating a Synthetic Data Set\n"
   ]
  },
  {
   "cell_type": "markdown",
   "metadata": {},
   "source": [
    "Our function is defined as $f(x) = c_0\\sigma(a_0x+b_0)+d_0$ where $a_0 = 1, b_0 = -1, c_0 = 2, d_0 = 1$\n",
    "\n",
    "Our activation function is defined as $\\sigma(z) = \\{z if z\\geqslant \\\\ 0 , 0 if z <0 \\}$"
   ]
  },
  {
   "cell_type": "markdown",
   "metadata": {},
   "source": [
    "## Hypothesis Function"
   ]
  },
  {
   "cell_type": "code",
   "execution_count": 140,
   "metadata": {},
   "outputs": [],
   "source": [
    "def hyp_func(x, a, b, c, d):\n",
    "    z = a*x + b\n",
    "    if z >= 0:\n",
    "        return c * z + d\n",
    "    else:\n",
    "        return d"
   ]
  },
  {
   "cell_type": "markdown",
   "metadata": {},
   "source": [
    "## Creating Data\n",
    "inputs variables are created sampling from a uniform distribution "
   ]
  },
  {
   "cell_type": "code",
   "execution_count": 141,
   "metadata": {},
   "outputs": [],
   "source": [
    "inputs = np.random.uniform(-2,2,50)"
   ]
  },
  {
   "cell_type": "markdown",
   "metadata": {},
   "source": [
    "Response variable are created by applying the the true hypothesis function to the input variables and adding gaussian noise"
   ]
  },
  {
   "cell_type": "code",
   "execution_count": 142,
   "metadata": {},
   "outputs": [],
   "source": [
    "errors = np.random.normal(0, .1, 50)"
   ]
  },
  {
   "cell_type": "code",
   "execution_count": 143,
   "metadata": {},
   "outputs": [],
   "source": [
    "synth_output = np.array([hyp_func(x, 1, -1, 2, 1) for x in inputs]) + errors"
   ]
  },
  {
   "cell_type": "code",
   "execution_count": 144,
   "metadata": {},
   "outputs": [],
   "source": [
    "def update_weights(x, y, a, b, c, d, alpha):\n",
    "    \"\"\"Takes input and output data, the weights for the hypothesis function (a,b,c,d) and the tuning parameter alpha. \n",
    "    Returns updated parameters\"\"\"\n",
    "    m = len(x) #length of input arrays\n",
    "    #initialize lists\n",
    "    grad_a = []\n",
    "    grad_b = []\n",
    "    grad_c = []\n",
    "    grad_d = []\n",
    "    #iterate through arrays and calculate gradient\n",
    "    for i in range(m):\n",
    "        #activation function changes the derivative \n",
    "        if a* x[i]+b >= 0:\n",
    "            grad_a.append(-2*c*x[i]*(y[i] - (c*(a*x[i]+b)+d)))\n",
    "            grad_b.append(-2*c*(y[i] - (c*(a*x[i]+b)+d)))\n",
    "            grad_c.append(-2*(a*x[i]+b)*(y[i] - (c*(a*x[i]+b)+d)))\n",
    "            grad_d.append(-2*(y[i] - (c*(a*x[i]+b)+d)))\n",
    "        else:\n",
    "            grad_a.append(0.0)\n",
    "            grad_b.append(0.0)\n",
    "            grad_c.append(0.0)\n",
    "            grad_d.append(-(y[i] - d))\n",
    "    \n",
    "    a_new = a - alpha * sum(grad_a)/m\n",
    "    b_new = b - alpha * sum(grad_b)/m\n",
    "    c_new = c - alpha * sum(grad_c)/m\n",
    "    d_new = d - alpha * sum(grad_d)/m\n",
    "    \n",
    "    #return updated values\n",
    "    return a_new, b_new, c_new, d_new"
   ]
  },
  {
   "cell_type": "code",
   "execution_count": 146,
   "metadata": {},
   "outputs": [],
   "source": [
    "def approx(a, b):\n",
    "    if abs(a - b) <= 0.0000000001:\n",
    "        return True\n",
    "    return False"
   ]
  },
  {
   "cell_type": "code",
   "execution_count": 147,
   "metadata": {},
   "outputs": [],
   "source": [
    "def train(X, Y, alpha, a_0, b_0, c_0, d_0):\n",
    "    a, b, c, d = update_weights(X, Y, a_0, b_0, c_0, d_0, alpha)\n",
    "    a1, b1, c1, d1 = update_weights(X,Y,a,b,c,d,alpha)\n",
    "    \n",
    "    while not approx(a, a1) and not approx(b, b1) and not approx(c, c1) and not approx(d, d1):\n",
    "        a, b, c, d = update_weights(X, Y, a1, b1, c1, d1, alpha)\n",
    "        a1, b1, c1, d1 = update_weights(X,Y,a,b,c,d,alpha)\n",
    "    return a1, b1, c1 ,d1"
   ]
  },
  {
   "cell_type": "code",
   "execution_count": 150,
   "metadata": {},
   "outputs": [
    {
     "name": "stdout",
     "output_type": "stream",
     "text": [
      "a: 1.2000187400741325\n",
      "b: -1.1919759394009226\n",
      "c: 1.688300973276224\n",
      "d: 0.9908026869800897\n"
     ]
    }
   ],
   "source": [
    "a, b, c, d = train(inputs, synth_output, 0.01, 0.1, 0.1, 0.1, 0.1)\n",
    "print(\"a: \" + str(a))\n",
    "print(\"b: \" + str(b))\n",
    "print(\"c: \" + str(c))\n",
    "print(\"d: \" + str(d))"
   ]
  },
  {
   "cell_type": "markdown",
   "metadata": {},
   "source": [
    "## Testing"
   ]
  },
  {
   "cell_type": "code",
   "execution_count": 151,
   "metadata": {},
   "outputs": [],
   "source": [
    "predictive_output = [hyp_func(x, a, b, c, d) for x in inputs]"
   ]
  },
  {
   "cell_type": "code",
   "execution_count": 153,
   "metadata": {},
   "outputs": [],
   "source": [
    "mse = sum([x ** 2 for x in (synth_output - predictive_output)])/len(synth_output)"
   ]
  },
  {
   "cell_type": "code",
   "execution_count": 155,
   "metadata": {},
   "outputs": [
    {
     "name": "stdout",
     "output_type": "stream",
     "text": [
      "The Mean Squared Error is: 0.008256981145200543\n"
     ]
    }
   ],
   "source": [
    "print(\"The Mean Squared Error is: \" + str(mse))"
   ]
  },
  {
   "cell_type": "code",
   "execution_count": null,
   "metadata": {},
   "outputs": [],
   "source": []
  }
 ],
 "metadata": {
  "kernelspec": {
   "display_name": "Python 3",
   "language": "python",
   "name": "python3"
  },
  "language_info": {
   "codemirror_mode": {
    "name": "ipython",
    "version": 3
   },
   "file_extension": ".py",
   "mimetype": "text/x-python",
   "name": "python",
   "nbconvert_exporter": "python",
   "pygments_lexer": "ipython3",
   "version": "3.7.3"
  }
 },
 "nbformat": 4,
 "nbformat_minor": 2
}
