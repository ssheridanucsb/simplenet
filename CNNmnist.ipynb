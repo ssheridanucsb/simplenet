{
 "cells": [
  {
   "cell_type": "code",
   "execution_count": 62,
   "metadata": {},
   "outputs": [],
   "source": [
    "import torch\n",
    "import torch.nn as nn\n",
    "import torchvision\n",
    "import torchvision.transforms as transforms\n",
    "\n",
    "import numpy as np\n",
    "import matplotlib.pyplot as plt"
   ]
  },
  {
   "cell_type": "code",
   "execution_count": 63,
   "metadata": {},
   "outputs": [],
   "source": [
    "#set device\n",
    "if torch.cuda.is_available():\n",
    "  device = torch.device('cuda:0')\n",
    "else: \n",
    "  device = torch.device('cpu')"
   ]
  },
  {
   "cell_type": "code",
   "execution_count": 64,
   "metadata": {},
   "outputs": [],
   "source": [
    "#download dataset from torchvision\n",
    "train_dataset = torchvision.datasets.MNIST(root='./data/', train=True, transform=transforms.ToTensor(), download=True)\n",
    "test_dataset = torchvision.datasets.MNIST(root='./data/', train=False, transform=transforms.ToTensor())\n",
    "categoryNames = ['one','two','three','four','five','six','seven','eight','nine']"
   ]
  },
  {
   "cell_type": "code",
   "execution_count": 65,
   "metadata": {},
   "outputs": [],
   "source": [
    "#set learning rate, batch size, and epochs\n",
    "learningRate = 0.001\n",
    "batchSize = 100\n",
    "numEpochs = 5"
   ]
  },
  {
   "cell_type": "code",
   "execution_count": 66,
   "metadata": {},
   "outputs": [],
   "source": [
    "#initialize data loaders\n",
    "train_loader = torch.utils.data.DataLoader(dataset=train_dataset,\n",
    "                                           batch_size=batchSize, \n",
    "                                           shuffle=True)\n",
    "\n",
    "test_loader = torch.utils.data.DataLoader(dataset=test_dataset,\n",
    "                                          batch_size=batchSize, \n",
    "                                          shuffle=False)"
   ]
  },
  {
   "cell_type": "code",
   "execution_count": 87,
   "metadata": {
    "scrolled": true
   },
   "outputs": [
    {
     "data": {
      "text/plain": [
       "10000"
      ]
     },
     "execution_count": 87,
     "metadata": {},
     "output_type": "execute_result"
    }
   ],
   "source": [
    "len(train_dataset)"
   ]
  },
  {
   "cell_type": "code",
   "execution_count": 68,
   "metadata": {},
   "outputs": [],
   "source": [
    "#funciton for printing and image from the Tensor data\n",
    "def gen_image(arr):\n",
    "    two_d = (np.reshape(arr, (28, 28)) * 255).astype(np.uint8)\n",
    "    plt.imshow(two_d, interpolation='nearest', cmap='gray')\n",
    "    return plt"
   ]
  },
  {
   "cell_type": "code",
   "execution_count": 86,
   "metadata": {
    "scrolled": true
   },
   "outputs": [
    {
     "data": {
      "image/png": "[encoded data removed]",
      "text/plain": [
       "<Figure size 432x288 with 1 Axes>"
      ]
     },
     "metadata": {
      "needs_background": "light"
     },
     "output_type": "display_data"
    }
   ],
   "source": [
    "gen_image(train_dataset[0][0].numpy()[0]).show()"
   ]
  },
  {
   "cell_type": "code",
   "execution_count": 80,
   "metadata": {},
   "outputs": [],
   "source": [
    "#define conv net class\n",
    "class ConvNet(nn.Module):\n",
    "    def __init__(self, numCategories=10): \n",
    "        super(ConvNet, self).__init__() #inherit info from parent class\n",
    "        #first sequential hidden layer\n",
    "        #combines convolution, ReLU and max pooling\n",
    "        self.layer1 = nn.Sequential(\n",
    "              nn.Conv2d(in_channels=1, out_channels=16, kernel_size=5, stride=1, padding=2),\n",
    "              nn.BatchNorm2d(num_features=16),\n",
    "              nn.ReLU(),\n",
    "              nn.MaxPool2d(kernel_size=2, stride=2))\n",
    "        #second sequential hidden layer\n",
    "        self.layer2 = nn.Sequential(\n",
    "            nn.Conv2d(in_channels=16, out_channels=32, kernel_size=5, stride=1, padding=2),\n",
    "            nn.BatchNorm2d(num_features=32),\n",
    "            nn.ReLU(),\n",
    "            nn.MaxPool2d(kernel_size=2, stride=2))\n",
    "        #output layer\n",
    "        self.fc = nn.Linear(7*7*32, numCategories)\n",
    "        \n",
    "    def forward(self, x):\n",
    "        out = self.layer1(x);\n",
    "        out = self.layer2(out);\n",
    "        out = out.reshape(out.size(0), -1);\n",
    "        out = self.fc(out);\n",
    "        return out"
   ]
  },
  {
   "cell_type": "code",
   "execution_count": 81,
   "metadata": {},
   "outputs": [],
   "source": [
    "model = ConvNet(10).to(device)"
   ]
  },
  {
   "cell_type": "code",
   "execution_count": 82,
   "metadata": {},
   "outputs": [],
   "source": [
    "#optimizer and loss function\n",
    "optimizer = torch.optim.Adam(model.parameters(), lr=learningRate)\n",
    "loss_func = nn.CrossEntropyLoss()"
   ]
  },
  {
   "cell_type": "code",
   "execution_count": 84,
   "metadata": {
    "scrolled": true
   },
   "outputs": [
    {
     "name": "stdout",
     "output_type": "stream",
     "text": [
      "Epoch: [1/5]; batchStep = [100/600]; Loss: 0.1161.\n",
      "Epoch: [1/5]; batchStep = [200/600]; Loss: 0.0512.\n",
      "Epoch: [1/5]; batchStep = [300/600]; Loss: 0.0294.\n",
      "Epoch: [1/5]; batchStep = [400/600]; Loss: 0.0270.\n",
      "Epoch: [1/5]; batchStep = [500/600]; Loss: 0.2006.\n",
      "Epoch: [1/5]; batchStep = [600/600]; Loss: 0.0445.\n",
      "Epoch: [2/5]; batchStep = [100/600]; Loss: 0.0153.\n",
      "Epoch: [2/5]; batchStep = [200/600]; Loss: 0.0442.\n",
      "Epoch: [2/5]; batchStep = [300/600]; Loss: 0.0290.\n",
      "Epoch: [2/5]; batchStep = [400/600]; Loss: 0.0835.\n",
      "Epoch: [2/5]; batchStep = [500/600]; Loss: 0.1118.\n",
      "Epoch: [2/5]; batchStep = [600/600]; Loss: 0.0267.\n",
      "Epoch: [3/5]; batchStep = [100/600]; Loss: 0.0074.\n",
      "Epoch: [3/5]; batchStep = [200/600]; Loss: 0.0199.\n",
      "Epoch: [3/5]; batchStep = [300/600]; Loss: 0.0311.\n",
      "Epoch: [3/5]; batchStep = [400/600]; Loss: 0.0212.\n",
      "Epoch: [3/5]; batchStep = [500/600]; Loss: 0.0551.\n",
      "Epoch: [3/5]; batchStep = [600/600]; Loss: 0.0226.\n",
      "Epoch: [4/5]; batchStep = [100/600]; Loss: 0.0107.\n",
      "Epoch: [4/5]; batchStep = [200/600]; Loss: 0.0134.\n",
      "Epoch: [4/5]; batchStep = [300/600]; Loss: 0.0552.\n",
      "Epoch: [4/5]; batchStep = [400/600]; Loss: 0.0276.\n",
      "Epoch: [4/5]; batchStep = [500/600]; Loss: 0.0065.\n",
      "Epoch: [4/5]; batchStep = [600/600]; Loss: 0.0056.\n",
      "Epoch: [5/5]; batchStep = [100/600]; Loss: 0.0057.\n",
      "Epoch: [5/5]; batchStep = [200/600]; Loss: 0.0329.\n",
      "Epoch: [5/5]; batchStep = [300/600]; Loss: 0.0011.\n",
      "Epoch: [5/5]; batchStep = [400/600]; Loss: 0.0048.\n",
      "Epoch: [5/5]; batchStep = [500/600]; Loss: 0.0041.\n",
      "Epoch: [5/5]; batchStep = [600/600]; Loss: 0.0821.\n"
     ]
    }
   ],
   "source": [
    "#train model\n",
    "numSteps = len(train_loader)\n",
    "for epoch in range(numEpochs):\n",
    "    for i, (image, label) in enumerate(train_loader):\n",
    "        image = image.to(device)\n",
    "        label = label.to(device)\n",
    "        \n",
    "        #forward\n",
    "        outputs = model(image)\n",
    "        loss = loss_func(outputs, label)\n",
    "        \n",
    "        #backward\n",
    "        optimizer.zero_grad()\n",
    "        loss.backward()\n",
    "        optimizer.step()\n",
    "        \n",
    "        if ((i + 1) % 100) == 0:\n",
    "          print ('Epoch: [%d/%d]; batchStep = [%d/%d]; Loss: %.4f.'%(epoch+1, numEpochs, i + 1, numSteps, loss.item()))\n",
    "        "
   ]
  },
  {
   "cell_type": "code",
   "execution_count": 85,
   "metadata": {},
   "outputs": [
    {
     "name": "stdout",
     "output_type": "stream",
     "text": [
      "98.99\n"
     ]
    }
   ],
   "source": [
    "#test model\n",
    "total = 0\n",
    "correct = 0\n",
    "\n",
    "for images, labels in test_loader:\n",
    "    images = images.to(device)\n",
    "    labels = labels.to(device)\n",
    "    \n",
    "    outputs = model(images)\n",
    "    _, predicted = torch.max(outputs.data, 1)\n",
    "    total += 1\n",
    "    correct += (predicted == labels).sum().item()\n",
    "\n",
    "print(correct/total)\n",
    "                    "
   ]
  },
  {
   "cell_type": "code",
   "execution_count": null,
   "metadata": {},
   "outputs": [],
   "source": []
  }
 ],
 "metadata": {
  "kernelspec": {
   "display_name": "Python 3",
   "language": "python",
   "name": "python3"
  },
  "language_info": {
   "codemirror_mode": {
    "name": "ipython",
    "version": 3
   },
   "file_extension": ".py",
   "mimetype": "text/x-python",
   "name": "python",
   "nbconvert_exporter": "python",
   "pygments_lexer": "ipython3",
   "version": "3.7.3"
  }
 },
 "nbformat": 4,
 "nbformat_minor": 2
}
